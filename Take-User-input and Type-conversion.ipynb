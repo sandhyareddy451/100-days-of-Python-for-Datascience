{
 "cells": [
  {
   "cell_type": "markdown",
   "id": "f022d74e",
   "metadata": {},
   "source": [
    "### User-input:\n",
    "\n",
    "- Entering the value of input variable using keyboard"
   ]
  },
  {
   "cell_type": "code",
   "execution_count": 1,
   "id": "8257310f",
   "metadata": {},
   "outputs": [
    {
     "name": "stdout",
     "output_type": "stream",
     "text": [
      "enter your name: sandhya\n"
     ]
    }
   ],
   "source": [
    "name=input(\"enter your name: \") #it will ask your name"
   ]
  },
  {
   "cell_type": "code",
   "execution_count": 4,
   "id": "7041f129",
   "metadata": {},
   "outputs": [
    {
     "name": "stdout",
     "output_type": "stream",
     "text": [
      " enter 1st num1: 1\n",
      " enter 1st num2: 2\n",
      "12\n"
     ]
    }
   ],
   "source": [
    "num1 = input(\" enter 1st num1: \") #it gives string as output type of variable\n",
    "num2 = input(\" enter 1st num2: \")\n",
    "add = num1+num2\n",
    "print(add) "
   ]
  },
  {
   "cell_type": "markdown",
   "id": "720d48ce",
   "metadata": {},
   "source": [
    "### Type Conversion:\n",
    "\n",
    "User-Input gives the output variable type is string, if you want to change the of datatype of variable or find out datatype of variable use the type -conversion"
   ]
  },
  {
   "cell_type": "code",
   "execution_count": 6,
   "id": "6c977fcb",
   "metadata": {},
   "outputs": [
    {
     "data": {
      "text/plain": [
       "str"
      ]
     },
     "execution_count": 6,
     "metadata": {},
     "output_type": "execute_result"
    }
   ],
   "source": [
    "type(name) #finding type of variable"
   ]
  },
  {
   "cell_type": "code",
   "execution_count": 7,
   "id": "e113fb85",
   "metadata": {},
   "outputs": [
    {
     "data": {
      "text/plain": [
       "int"
      ]
     },
     "execution_count": 7,
     "metadata": {},
     "output_type": "execute_result"
    }
   ],
   "source": [
    "type(2)"
   ]
  },
  {
   "cell_type": "code",
   "execution_count": 8,
   "id": "525ed706",
   "metadata": {},
   "outputs": [
    {
     "data": {
      "text/plain": [
       "float"
      ]
     },
     "execution_count": 8,
     "metadata": {},
     "output_type": "execute_result"
    }
   ],
   "source": [
    "type(2.5)"
   ]
  },
  {
   "cell_type": "code",
   "execution_count": 9,
   "id": "cb2f7ae8",
   "metadata": {},
   "outputs": [
    {
     "data": {
      "text/plain": [
       "bool"
      ]
     },
     "execution_count": 9,
     "metadata": {},
     "output_type": "execute_result"
    }
   ],
   "source": [
    "type(True)"
   ]
  },
  {
   "cell_type": "code",
   "execution_count": 10,
   "id": "94ba3a9f",
   "metadata": {},
   "outputs": [
    {
     "data": {
      "text/plain": [
       "complex"
      ]
     },
     "execution_count": 10,
     "metadata": {},
     "output_type": "execute_result"
    }
   ],
   "source": [
    "type(2+3j)"
   ]
  },
  {
   "cell_type": "markdown",
   "id": "adab5ba8",
   "metadata": {},
   "source": [
    "### Types of Type-conversion"
   ]
  },
  {
   "cell_type": "code",
   "execution_count": null,
   "id": "69b5477e",
   "metadata": {},
   "outputs": [],
   "source": [
    "#2 types of typeconversion\n",
    "# implicit\n",
    "# explicit"
   ]
  },
  {
   "cell_type": "code",
   "execution_count": 12,
   "id": "d643141b",
   "metadata": {},
   "outputs": [
    {
     "data": {
      "text/plain": [
       "7"
      ]
     },
     "execution_count": 12,
     "metadata": {},
     "output_type": "execute_result"
    }
   ],
   "source": [
    "#implicit: python internally convert variable datatypes\n",
    "int(4+3.8)"
   ]
  },
  {
   "cell_type": "code",
   "execution_count": null,
   "id": "f24b4771",
   "metadata": {},
   "outputs": [],
   "source": []
  },
  {
   "cell_type": "code",
   "execution_count": 13,
   "id": "84a675de",
   "metadata": {},
   "outputs": [
    {
     "name": "stdout",
     "output_type": "stream",
     "text": [
      " enter 1st num1: 3\n",
      " enter 1st num2: 4\n",
      "7\n"
     ]
    }
   ],
   "source": [
    "# explicit : user has to convert the datatype what ever want\n",
    "num1 = int(input(\" enter 1st num1: \")) #Explicit type conversion\n",
    "num2 = int(input(\" enter 1st num2: \"))\n",
    "add = num1+num2\n",
    "print(add) "
   ]
  },
  {
   "cell_type": "code",
   "execution_count": null,
   "id": "0cbadc13",
   "metadata": {},
   "outputs": [],
   "source": []
  }
 ],
 "metadata": {
  "kernelspec": {
   "display_name": "Python 3 (ipykernel)",
   "language": "python",
   "name": "python3"
  },
  "language_info": {
   "codemirror_mode": {
    "name": "ipython",
    "version": 3
   },
   "file_extension": ".py",
   "mimetype": "text/x-python",
   "name": "python",
   "nbconvert_exporter": "python",
   "pygments_lexer": "ipython3",
   "version": "3.9.13"
  }
 },
 "nbformat": 4,
 "nbformat_minor": 5
}
