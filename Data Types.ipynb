{
 "cells": [
  {
   "cell_type": "markdown",
   "id": "a1f3be96",
   "metadata": {},
   "source": [
    "### Python supports 3 catagories of data types\n",
    "\n",
    "#### Basic types:\n",
    "(Integers,float,complex,boolean and strings)\n",
    "\n",
    "#### Container types:\n",
    "Container types means it carring different datatypes in single list\n",
    "\n",
    "ex: (Lists, Tuples, Sets and Dictionaries)\n",
    "\n",
    "#### User-Defined Types:\n",
    "Based on User requirement, creates the classes\n",
    "\n",
    "ex: Classes\n"
   ]
  },
  {
   "cell_type": "markdown",
   "id": "c6742105",
   "metadata": {},
   "source": [
    "#### Basic types:"
   ]
  },
  {
   "cell_type": "code",
   "execution_count": 5,
   "id": "ff411612",
   "metadata": {},
   "outputs": [
    {
     "name": "stdout",
     "output_type": "stream",
     "text": [
      "4\n",
      "10\n"
     ]
    }
   ],
   "source": [
    "#integers\n",
    "print(4)\n",
    "print(10)"
   ]
  },
  {
   "cell_type": "code",
   "execution_count": 7,
   "id": "feef21c0",
   "metadata": {},
   "outputs": [
    {
     "name": "stdout",
     "output_type": "stream",
     "text": [
      "1.5\n",
      "2.9\n"
     ]
    }
   ],
   "source": [
    "#floats\n",
    "print(1.5)\n",
    "print(2.9)"
   ]
  },
  {
   "cell_type": "code",
   "execution_count": 8,
   "id": "86dca630",
   "metadata": {},
   "outputs": [
    {
     "name": "stdout",
     "output_type": "stream",
     "text": [
      "(1+2j)\n"
     ]
    }
   ],
   "source": [
    "#complex\n",
    "print(1+2j)"
   ]
  },
  {
   "cell_type": "code",
   "execution_count": 9,
   "id": "aef93dd4",
   "metadata": {},
   "outputs": [
    {
     "name": "stdout",
     "output_type": "stream",
     "text": [
      "True\n",
      "False\n"
     ]
    }
   ],
   "source": [
    "#boolean\n",
    "print(True)\n",
    "print(False)"
   ]
  },
  {
   "cell_type": "code",
   "execution_count": 10,
   "id": "d47a2cee",
   "metadata": {},
   "outputs": [
    {
     "name": "stdout",
     "output_type": "stream",
     "text": [
      "Python Programming\n"
     ]
    }
   ],
   "source": [
    "#strings\n",
    "print(\"Python Programming\")"
   ]
  },
  {
   "cell_type": "markdown",
   "id": "204089bb",
   "metadata": {},
   "source": [
    "#### Container Types\n"
   ]
  },
  {
   "cell_type": "code",
   "execution_count": 11,
   "id": "d3bdbd21",
   "metadata": {},
   "outputs": [
    {
     "name": "stdout",
     "output_type": "stream",
     "text": [
      "[1, 2, 3, 4, 5]\n"
     ]
    }
   ],
   "source": [
    "#lists\n",
    "print([1,2,3,4,5])"
   ]
  },
  {
   "cell_type": "code",
   "execution_count": 12,
   "id": "28b830ff",
   "metadata": {},
   "outputs": [
    {
     "name": "stdout",
     "output_type": "stream",
     "text": [
      "(1, 2, 3, 4, 6, 7)\n"
     ]
    }
   ],
   "source": [
    "#tuples\n",
    "print((1,2,3,4,6,7))"
   ]
  },
  {
   "cell_type": "code",
   "execution_count": 13,
   "id": "5c4cb0ed",
   "metadata": {},
   "outputs": [
    {
     "name": "stdout",
     "output_type": "stream",
     "text": [
      "{1, 2, 3, 5, 6, 7, 8}\n"
     ]
    }
   ],
   "source": [
    "#sets\n",
    "print({1,2,3,5,6,7,8,2})"
   ]
  },
  {
   "cell_type": "code",
   "execution_count": 15,
   "id": "02b0be92",
   "metadata": {},
   "outputs": [
    {
     "name": "stdout",
     "output_type": "stream",
     "text": [
      "{'name': 'sandhya', 'age': 29, 'studies': 'B.tech', 'living': 'Hyderabad', 'gender': 'female'}\n"
     ]
    }
   ],
   "source": [
    "#Dictionary\n",
    "print({'name':'sandhya','age':29, 'studies':'B.tech', 'living':'Hyderabad', 'gender':'female'})"
   ]
  },
  {
   "cell_type": "markdown",
   "id": "6bcc8f51",
   "metadata": {},
   "source": [
    "### User-Defined---Classes\n",
    "\n",
    "In future we will learn it"
   ]
  },
  {
   "cell_type": "code",
   "execution_count": null,
   "id": "84af5054",
   "metadata": {},
   "outputs": [],
   "source": []
  }
 ],
 "metadata": {
  "kernelspec": {
   "display_name": "Python 3 (ipykernel)",
   "language": "python",
   "name": "python3"
  },
  "language_info": {
   "codemirror_mode": {
    "name": "ipython",
    "version": 3
   },
   "file_extension": ".py",
   "mimetype": "text/x-python",
   "name": "python",
   "nbconvert_exporter": "python",
   "pygments_lexer": "ipython3",
   "version": "3.9.13"
  }
 },
 "nbformat": 4,
 "nbformat_minor": 5
}
