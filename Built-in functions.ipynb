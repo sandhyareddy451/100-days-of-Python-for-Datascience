{
 "cells": [
  {
   "cell_type": "markdown",
   "id": "d059954d",
   "metadata": {},
   "source": [
    "Built-in functions: \n",
    "\n",
    "Some of Built in functions in python are"
   ]
  },
  {
   "cell_type": "markdown",
   "id": "d113b5b6",
   "metadata": {},
   "source": [
    "### 1. print"
   ]
  },
  {
   "cell_type": "code",
   "execution_count": 1,
   "id": "3f25b43c",
   "metadata": {},
   "outputs": [
    {
     "name": "stdout",
     "output_type": "stream",
     "text": [
      "hello world\n"
     ]
    }
   ],
   "source": [
    "print(\"hello world\")"
   ]
  },
  {
   "cell_type": "markdown",
   "id": "7477527a",
   "metadata": {},
   "source": [
    "### 2. input"
   ]
  },
  {
   "cell_type": "code",
   "execution_count": 2,
   "id": "eb140189",
   "metadata": {},
   "outputs": [
    {
     "name": "stdout",
     "output_type": "stream",
     "text": [
      "Enter your namesandhya\n"
     ]
    },
    {
     "data": {
      "text/plain": [
       "'sandhya'"
      ]
     },
     "execution_count": 2,
     "metadata": {},
     "output_type": "execute_result"
    }
   ],
   "source": [
    "input(\"Enter your name\")"
   ]
  },
  {
   "cell_type": "markdown",
   "id": "8acac436",
   "metadata": {},
   "source": [
    "### 3. type"
   ]
  },
  {
   "cell_type": "code",
   "execution_count": 5,
   "id": "f2109e2e",
   "metadata": {},
   "outputs": [
    {
     "data": {
      "text/plain": [
       "bool"
      ]
     },
     "execution_count": 5,
     "metadata": {},
     "output_type": "execute_result"
    }
   ],
   "source": [
    "a = True\n",
    "type(a)"
   ]
  },
  {
   "cell_type": "markdown",
   "id": "09cd180c",
   "metadata": {},
   "source": [
    "### 4. int etc."
   ]
  },
  {
   "cell_type": "code",
   "execution_count": 7,
   "id": "4da71574",
   "metadata": {},
   "outputs": [
    {
     "data": {
      "text/plain": [
       "5"
      ]
     },
     "execution_count": 7,
     "metadata": {},
     "output_type": "execute_result"
    }
   ],
   "source": [
    "int(5.6)"
   ]
  },
  {
   "cell_type": "markdown",
   "id": "960580e1",
   "metadata": {},
   "source": [
    "### 5.abs\n"
   ]
  },
  {
   "cell_type": "code",
   "execution_count": null,
   "id": "94754ed3",
   "metadata": {},
   "outputs": [],
   "source": [
    "abs(4)"
   ]
  },
  {
   "cell_type": "code",
   "execution_count": 9,
   "id": "659c3bd1",
   "metadata": {},
   "outputs": [
    {
     "data": {
      "text/plain": [
       "4"
      ]
     },
     "execution_count": 9,
     "metadata": {},
     "output_type": "execute_result"
    }
   ],
   "source": [
    "abs(-4)"
   ]
  },
  {
   "cell_type": "markdown",
   "id": "c3727aaa",
   "metadata": {},
   "source": [
    "### 6. pow"
   ]
  },
  {
   "cell_type": "code",
   "execution_count": 10,
   "id": "e7c4ffcd",
   "metadata": {},
   "outputs": [
    {
     "data": {
      "text/plain": [
       "8"
      ]
     },
     "execution_count": 10,
     "metadata": {},
     "output_type": "execute_result"
    }
   ],
   "source": [
    "pow(2,3)"
   ]
  },
  {
   "cell_type": "code",
   "execution_count": 11,
   "id": "afd09a38",
   "metadata": {},
   "outputs": [
    {
     "data": {
      "text/plain": [
       "0.25"
      ]
     },
     "execution_count": 11,
     "metadata": {},
     "output_type": "execute_result"
    }
   ],
   "source": [
    "pow(2,-2)"
   ]
  },
  {
   "cell_type": "markdown",
   "id": "61f911d4",
   "metadata": {},
   "source": [
    "### 7.min/max"
   ]
  },
  {
   "cell_type": "code",
   "execution_count": 12,
   "id": "6f0d46d7",
   "metadata": {},
   "outputs": [
    {
     "data": {
      "text/plain": [
       "1"
      ]
     },
     "execution_count": 12,
     "metadata": {},
     "output_type": "execute_result"
    }
   ],
   "source": [
    "min([1,2,3,5,6,])"
   ]
  },
  {
   "cell_type": "code",
   "execution_count": 14,
   "id": "8d63eaac",
   "metadata": {},
   "outputs": [
    {
     "data": {
      "text/plain": [
       "'a'"
      ]
     },
     "execution_count": 14,
     "metadata": {},
     "output_type": "execute_result"
    }
   ],
   "source": [
    "min(\"hyderabd\")"
   ]
  },
  {
   "cell_type": "markdown",
   "id": "0aca4c8e",
   "metadata": {},
   "source": [
    "## 8. round\n"
   ]
  },
  {
   "cell_type": "code",
   "execution_count": 4,
   "id": "8823cb31",
   "metadata": {},
   "outputs": [
    {
     "data": {
      "text/plain": [
       "3"
      ]
     },
     "execution_count": 4,
     "metadata": {},
     "output_type": "execute_result"
    }
   ],
   "source": [
    "c=22/7\n",
    "round(22/7)"
   ]
  },
  {
   "cell_type": "markdown",
   "id": "8fef3b33",
   "metadata": {},
   "source": [
    "## 9. divmod"
   ]
  },
  {
   "cell_type": "code",
   "execution_count": 7,
   "id": "45b6654e",
   "metadata": {},
   "outputs": [
    {
     "data": {
      "text/plain": [
       "(2, 1)"
      ]
     },
     "execution_count": 7,
     "metadata": {},
     "output_type": "execute_result"
    }
   ],
   "source": [
    "divmod(5,2) #division result and modulus result"
   ]
  },
  {
   "cell_type": "markdown",
   "id": "c3e451d2",
   "metadata": {},
   "source": [
    "## 10. bin/oct/hex"
   ]
  },
  {
   "cell_type": "code",
   "execution_count": 9,
   "id": "17a2d099",
   "metadata": {},
   "outputs": [
    {
     "data": {
      "text/plain": [
       "'0x4'"
      ]
     },
     "execution_count": 9,
     "metadata": {},
     "output_type": "execute_result"
    }
   ],
   "source": [
    "hex(4)"
   ]
  },
  {
   "cell_type": "markdown",
   "id": "36312b32",
   "metadata": {},
   "source": [
    "## 11. id"
   ]
  },
  {
   "cell_type": "code",
   "execution_count": 10,
   "id": "d2c16eb9",
   "metadata": {},
   "outputs": [
    {
     "data": {
      "text/plain": [
       "2120203790704"
      ]
     },
     "execution_count": 10,
     "metadata": {},
     "output_type": "execute_result"
    }
   ],
   "source": [
    "a =3\n",
    "id(a)"
   ]
  },
  {
   "cell_type": "markdown",
   "id": "f75670a4",
   "metadata": {},
   "source": [
    "## 12. ord"
   ]
  },
  {
   "cell_type": "code",
   "execution_count": 12,
   "id": "acd2928f",
   "metadata": {},
   "outputs": [
    {
     "data": {
      "text/plain": [
       "67"
      ]
     },
     "execution_count": 12,
     "metadata": {},
     "output_type": "execute_result"
    }
   ],
   "source": [
    "#ascii value\n",
    "ord('C')"
   ]
  },
  {
   "cell_type": "markdown",
   "id": "987e5427",
   "metadata": {},
   "source": [
    "## 13.len"
   ]
  },
  {
   "cell_type": "code",
   "execution_count": 14,
   "id": "29ff7724",
   "metadata": {},
   "outputs": [
    {
     "data": {
      "text/plain": [
       "7"
      ]
     },
     "execution_count": 14,
     "metadata": {},
     "output_type": "execute_result"
    }
   ],
   "source": [
    "len(\"sandhya\") #to find length of sequence, either tuple, list, string etc"
   ]
  },
  {
   "cell_type": "markdown",
   "id": "59916765",
   "metadata": {},
   "source": [
    "## 14. sum"
   ]
  },
  {
   "cell_type": "code",
   "execution_count": 17,
   "id": "230e1930",
   "metadata": {},
   "outputs": [
    {
     "data": {
      "text/plain": [
       "15"
      ]
     },
     "execution_count": 17,
     "metadata": {},
     "output_type": "execute_result"
    }
   ],
   "source": [
    "sum({1,2,3,4,5})"
   ]
  },
  {
   "cell_type": "markdown",
   "id": "7971346e",
   "metadata": {},
   "source": [
    "## 15. help "
   ]
  },
  {
   "cell_type": "code",
   "execution_count": 20,
   "id": "79fc8787",
   "metadata": {},
   "outputs": [
    {
     "name": "stdout",
     "output_type": "stream",
     "text": [
      "Help on built-in function print in module builtins:\n",
      "\n",
      "print(...)\n",
      "    print(value, ..., sep=' ', end='\\n', file=sys.stdout, flush=False)\n",
      "    \n",
      "    Prints the values to a stream, or to sys.stdout by default.\n",
      "    Optional keyword arguments:\n",
      "    file:  a file-like object (stream); defaults to the current sys.stdout.\n",
      "    sep:   string inserted between values, default a space.\n",
      "    end:   string appended after the last value, default a newline.\n",
      "    flush: whether to forcibly flush the stream.\n",
      "\n"
     ]
    }
   ],
   "source": [
    "help('print')"
   ]
  },
  {
   "cell_type": "code",
   "execution_count": null,
   "id": "99f5d93a",
   "metadata": {},
   "outputs": [],
   "source": []
  }
 ],
 "metadata": {
  "kernelspec": {
   "display_name": "Python 3 (ipykernel)",
   "language": "python",
   "name": "python3"
  },
  "language_info": {
   "codemirror_mode": {
    "name": "ipython",
    "version": 3
   },
   "file_extension": ".py",
   "mimetype": "text/x-python",
   "name": "python",
   "nbconvert_exporter": "python",
   "pygments_lexer": "ipython3",
   "version": "3.9.13"
  }
 },
 "nbformat": 4,
 "nbformat_minor": 5
}
