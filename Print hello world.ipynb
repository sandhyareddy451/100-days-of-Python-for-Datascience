{
 "cells": [
  {
   "cell_type": "code",
   "execution_count": 1,
   "id": "66459f6d",
   "metadata": {},
   "outputs": [
    {
     "name": "stdout",
     "output_type": "stream",
     "text": [
      "Hello World\n"
     ]
    }
   ],
   "source": [
    "print(\"Hello World\")"
   ]
  },
  {
   "cell_type": "code",
   "execution_count": 2,
   "id": "fcaa6cf6",
   "metadata": {},
   "outputs": [
    {
     "name": "stdout",
     "output_type": "stream",
     "text": [
      "5\n"
     ]
    }
   ],
   "source": [
    "print(5)"
   ]
  },
  {
   "cell_type": "code",
   "execution_count": 3,
   "id": "0df6a098",
   "metadata": {},
   "outputs": [
    {
     "name": "stdout",
     "output_type": "stream",
     "text": [
      "True\n"
     ]
    }
   ],
   "source": [
    "print(True)"
   ]
  },
  {
   "cell_type": "code",
   "execution_count": 4,
   "id": "fab6b99b",
   "metadata": {},
   "outputs": [
    {
     "name": "stdout",
     "output_type": "stream",
     "text": [
      "False\n"
     ]
    }
   ],
   "source": [
    "print(False)"
   ]
  },
  {
   "cell_type": "code",
   "execution_count": 5,
   "id": "ba46ae67",
   "metadata": {},
   "outputs": [
    {
     "name": "stdout",
     "output_type": "stream",
     "text": [
      "India Pakistan Srilanka\n"
     ]
    }
   ],
   "source": [
    "print(\"India\", \"Pakistan\", \"Srilanka\")"
   ]
  },
  {
   "cell_type": "code",
   "execution_count": 6,
   "id": "0688c4ac",
   "metadata": {},
   "outputs": [
    {
     "name": "stdout",
     "output_type": "stream",
     "text": [
      "India 5 True\n"
     ]
    }
   ],
   "source": [
    "print(\"India\",5,True)"
   ]
  },
  {
   "cell_type": "code",
   "execution_count": 7,
   "id": "4d7fbe2f",
   "metadata": {},
   "outputs": [
    {
     "name": "stdout",
     "output_type": "stream",
     "text": [
      "India/Pakistan/Srilanka\n"
     ]
    }
   ],
   "source": [
    "print(\"India\", \"Pakistan\", \"Srilanka\", sep=\"/\") #sep function,separate the values with symbols what ever passed in between quotes"
   ]
  },
  {
   "cell_type": "code",
   "execution_count": 8,
   "id": "4e87a04d",
   "metadata": {},
   "outputs": [
    {
     "name": "stdout",
     "output_type": "stream",
     "text": [
      "hello world\n"
     ]
    }
   ],
   "source": [
    "print(\"hello\", end=\" \") #end function is used to print the values with in same line\n",
    "print(\"world\")"
   ]
  },
  {
   "cell_type": "code",
   "execution_count": null,
   "id": "619525fd",
   "metadata": {},
   "outputs": [],
   "source": []
  }
 ],
 "metadata": {
  "kernelspec": {
   "display_name": "Python 3 (ipykernel)",
   "language": "python",
   "name": "python3"
  },
  "language_info": {
   "codemirror_mode": {
    "name": "ipython",
    "version": 3
   },
   "file_extension": ".py",
   "mimetype": "text/x-python",
   "name": "python",
   "nbconvert_exporter": "python",
   "pygments_lexer": "ipython3",
   "version": "3.9.13"
  }
 },
 "nbformat": 4,
 "nbformat_minor": 5
}
