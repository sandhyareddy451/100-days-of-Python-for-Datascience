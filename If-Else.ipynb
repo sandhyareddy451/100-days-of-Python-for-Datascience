{
 "cells": [
  {
   "cell_type": "markdown",
   "id": "f4635e54",
   "metadata": {},
   "source": [
    "### If-Else:\n",
    "\n",
    "The if statement alone tells us that if a condition is true it will execute a block of statements and if the condition is false it won’t."
   ]
  },
  {
   "cell_type": "code",
   "execution_count": 2,
   "id": "68e40bb6",
   "metadata": {},
   "outputs": [],
   "source": [
    "#correct email - vemula.sandhya51@gmail.com\n",
    "# password - 1234"
   ]
  },
  {
   "cell_type": "code",
   "execution_count": 5,
   "id": "eb19d204",
   "metadata": {},
   "outputs": [
    {
     "name": "stdout",
     "output_type": "stream",
     "text": [
      "enter your email: vemula.sandhya51@gmail.com\n",
      "enter your password: 1234\n",
      "welcome to gmail account\n"
     ]
    }
   ],
   "source": [
    "email = input(\"enter your email: \")\n",
    "password = input(\"enter your password: \")\n",
    "\n",
    "if email == \"vemula.sandhya51@gmail.com\" and password ==\"1234\":\n",
    "    print(\"welcome to Gmail\")\n",
    "else:\n",
    "    print(\"incorrect credential\")"
   ]
  },
  {
   "cell_type": "code",
   "execution_count": 6,
   "id": "fd696398",
   "metadata": {},
   "outputs": [
    {
     "name": "stdout",
     "output_type": "stream",
     "text": [
      "enter your email: vemula.sandhya51@gmail.com\n",
      "enter your password: 1235478\n",
      "password is incorrect\n",
      "enter correct password1234\n",
      "Finally Correct\n"
     ]
    }
   ],
   "source": [
    "# only one condition is true in that situation we can use elseif statement\n",
    "\n",
    "email = input(\"enter your email: \")\n",
    "password = input(\"enter your password: \")\n",
    "\n",
    "if email == \"vemula.sandhya51@gmail.com\" and password ==\"1234\":\n",
    "    print(\"welcome to Gmail\")\n",
    "elif email == \"vemula.sandhya51@gmail.com\" and password !=\"1234\":\n",
    "    print(\"password is incorrect\")\n",
    "    password = input(\"enter correct password\")\n",
    "    if password == \"1234\":\n",
    "        print(\"Finally Correct\")\n",
    "    else:\n",
    "        print(\"still incorrect\")\n",
    "else:\n",
    "    print(\"incorrect credential\")"
   ]
  },
  {
   "cell_type": "code",
   "execution_count": null,
   "id": "38102037",
   "metadata": {},
   "outputs": [],
   "source": []
  }
 ],
 "metadata": {
  "kernelspec": {
   "display_name": "Python 3 (ipykernel)",
   "language": "python",
   "name": "python3"
  },
  "language_info": {
   "codemirror_mode": {
    "name": "ipython",
    "version": 3
   },
   "file_extension": ".py",
   "mimetype": "text/x-python",
   "name": "python",
   "nbconvert_exporter": "python",
   "pygments_lexer": "ipython3",
   "version": "3.9.13"
  }
 },
 "nbformat": 4,
 "nbformat_minor": 5
}
