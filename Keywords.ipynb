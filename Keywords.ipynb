{
 "cells": [
  {
   "cell_type": "markdown",
   "id": "4c2f7e0e",
   "metadata": {},
   "source": [
    "### Keyword:\n",
    "\n",
    "- Keyword is word. It is reserverd by Program because it has Special meaning. Every programming has a set of keywords which is not used as variable names.\n",
    "\n",
    "\n",
    "- python is a case sensitive language. means capital and small letters both are different\n",
    "\n",
    "    example python !=(not equal to) Python\n",
    "     here p and P both are different\n",
    "     \n",
    "     \n",
    "- python also having total 33 keywords, which can be printed below\n"
   ]
  },
  {
   "cell_type": "code",
   "execution_count": 4,
   "id": "f504f4f5",
   "metadata": {},
   "outputs": [
    {
     "name": "stdout",
     "output_type": "stream",
     "text": [
      "['False', 'None', 'True', '__peg_parser__', 'and', 'as', 'assert', 'async', 'await', 'break', 'class', 'continue', 'def', 'del', 'elif', 'else', 'except', 'finally', 'for', 'from', 'global', 'if', 'import', 'in', 'is', 'lambda', 'nonlocal', 'not', 'or', 'pass', 'raise', 'return', 'try', 'while', 'with', 'yield']\n"
     ]
    }
   ],
   "source": [
    "#33 keywords\n",
    "import keyword\n",
    "print(keyword.kwlist)"
   ]
  },
  {
   "cell_type": "markdown",
   "id": "e0a06d76",
   "metadata": {},
   "source": [
    "## Identifiers:\n",
    "\n",
    "#### Identifier is a name used to identify a variable,function, class,module or other object\n",
    "\n",
    "ex: \n",
    "\n",
    "name = \"sandhya\"\n",
    "\n",
    "here name is identifier\n"
   ]
  },
  {
   "cell_type": "markdown",
   "id": "ee49d50f",
   "metadata": {},
   "source": [
    "### Rules to setting Identifier"
   ]
  },
  {
   "cell_type": "markdown",
   "id": "3a4530c7",
   "metadata": {},
   "source": [
    "#### Identifier only starts with alphabets or _(underscore):\n",
    "\n",
    "Example:\n",
    "    \n",
    "       name =\"Sandhya\" #here Identifier starts with alphetes\n",
    "       _name =\"sandhya\" #here Identifier starts with _(underscore)\n",
    "    "
   ]
  },
  {
   "cell_type": "markdown",
   "id": "c109c004",
   "metadata": {},
   "source": [
    "#### followed by 0 and more letters, _ digits"
   ]
  },
  {
   "cell_type": "markdown",
   "id": "177ac581",
   "metadata": {},
   "source": [
    "Example:\n",
    "    \n",
    "        name1 =\"Sandhya\" #here Identifier ends with numbers\n",
    "        name_ =\"Sandhya\" #here Identifier starts with underscore\n",
    "- identier does't start and end with special characters except(_)"
   ]
  },
  {
   "cell_type": "markdown",
   "id": "7f4e37f2",
   "metadata": {},
   "source": [
    "#### Keyword doesn't used as Identifier\n",
    "\n",
    "means with in 33 keywords of python, we don't used as identifiers"
   ]
  },
  {
   "cell_type": "code",
   "execution_count": 9,
   "id": "c76d8cac",
   "metadata": {},
   "outputs": [
    {
     "ename": "SyntaxError",
     "evalue": "cannot assign to True (3106185787.py, line 1)",
     "output_type": "error",
     "traceback": [
      "\u001b[1;36m  File \u001b[1;32m\"C:\\Users\\ell.DESKTOP-F8FOOJM\\AppData\\Local\\Temp\\ipykernel_7412\\3106185787.py\"\u001b[1;36m, line \u001b[1;32m1\u001b[0m\n\u001b[1;33m    True =\"sandhya\"\u001b[0m\n\u001b[1;37m    ^\u001b[0m\n\u001b[1;31mSyntaxError\u001b[0m\u001b[1;31m:\u001b[0m cannot assign to True\n"
     ]
    }
   ],
   "source": [
    "True =\"sandhya\"\n",
    "print(True) # here True is keyword in python, if it used as Identifier it shows error"
   ]
  },
  {
   "cell_type": "code",
   "execution_count": 10,
   "id": "bcc2c259",
   "metadata": {},
   "outputs": [
    {
     "name": "stdout",
     "output_type": "stream",
     "text": [
      "sandhya\n"
     ]
    }
   ],
   "source": [
    "_=\"sandhya\" #valid\n",
    "print(_)"
   ]
  },
  {
   "cell_type": "code",
   "execution_count": 11,
   "id": "12620075",
   "metadata": {},
   "outputs": [
    {
     "ename": "SyntaxError",
     "evalue": "invalid syntax (143494941.py, line 1)",
     "output_type": "error",
     "traceback": [
      "\u001b[1;36m  File \u001b[1;32m\"C:\\Users\\ell.DESKTOP-F8FOOJM\\AppData\\Local\\Temp\\ipykernel_7412\\143494941.py\"\u001b[1;36m, line \u001b[1;32m1\u001b[0m\n\u001b[1;33m    1name=\"sandhya\"\u001b[0m\n\u001b[1;37m     ^\u001b[0m\n\u001b[1;31mSyntaxError\u001b[0m\u001b[1;31m:\u001b[0m invalid syntax\n"
     ]
    }
   ],
   "source": [
    "1name=\"sandhya\" #not valid\n",
    "print(1name)"
   ]
  },
  {
   "cell_type": "code",
   "execution_count": 12,
   "id": "72ca6fce",
   "metadata": {},
   "outputs": [
    {
     "ename": "SyntaxError",
     "evalue": "invalid syntax (4142509817.py, line 1)",
     "output_type": "error",
     "traceback": [
      "\u001b[1;36m  File \u001b[1;32m\"C:\\Users\\ell.DESKTOP-F8FOOJM\\AppData\\Local\\Temp\\ipykernel_7412\\4142509817.py\"\u001b[1;36m, line \u001b[1;32m1\u001b[0m\n\u001b[1;33m    @=\"sandhya\"\u001b[0m\n\u001b[1;37m    ^\u001b[0m\n\u001b[1;31mSyntaxError\u001b[0m\u001b[1;31m:\u001b[0m invalid syntax\n"
     ]
    }
   ],
   "source": [
    "@=\"sandhya\" #not valid\n",
    "print(@)"
   ]
  },
  {
   "cell_type": "code",
   "execution_count": null,
   "id": "5a927b3d",
   "metadata": {},
   "outputs": [],
   "source": []
  }
 ],
 "metadata": {
  "kernelspec": {
   "display_name": "Python 3 (ipykernel)",
   "language": "python",
   "name": "python3"
  },
  "language_info": {
   "codemirror_mode": {
    "name": "ipython",
    "version": 3
   },
   "file_extension": ".py",
   "mimetype": "text/x-python",
   "name": "python",
   "nbconvert_exporter": "python",
   "pygments_lexer": "ipython3",
   "version": "3.9.13"
  }
 },
 "nbformat": 4,
 "nbformat_minor": 5
}
