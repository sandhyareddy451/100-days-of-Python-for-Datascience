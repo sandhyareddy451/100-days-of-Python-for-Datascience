{
 "cells": [
  {
   "cell_type": "markdown",
   "id": "800206fd",
   "metadata": {},
   "source": [
    "### Literals:"
   ]
  },
  {
   "cell_type": "markdown",
   "id": "eaea793c",
   "metadata": {},
   "source": [
    "Literals is a raw data given in a variable. there are various types of literals present in python"
   ]
  },
  {
   "cell_type": "markdown",
   "id": "d7dc48e1",
   "metadata": {},
   "source": [
    "- Numerical Literals\n",
    "- String Literals\n",
    "- Boolean Literals\n",
    "- Special Literals"
   ]
  },
  {
   "cell_type": "markdown",
   "id": "6fdcdcb8",
   "metadata": {},
   "source": [
    "### Numerical Literals"
   ]
  },
  {
   "cell_type": "code",
   "execution_count": 6,
   "id": "6c2a020b",
   "metadata": {},
   "outputs": [
    {
     "name": "stdout",
     "output_type": "stream",
     "text": [
      "21 100 200 300\n",
      "10.5 1500.0 0.0015\n",
      "3.14j\n"
     ]
    }
   ],
   "source": [
    "a = 0b10101 #Binary Literal\n",
    "b = 100 # Decimal Literal\n",
    "c = 0o310 #Octal Literal\n",
    "d = 0x12c #Hexa Decimal Literal\n",
    "\n",
    "# float Literal\n",
    "\n",
    "float_1 = 10.5\n",
    "float_2 = 1.5e3\n",
    "float_3 = 1.5e-3\n",
    "\n",
    "#complex literal\n",
    "x = 3.14j\n",
    "\n",
    "print(a,b,c,d)\n",
    "print(float_1,float_2,float_3)\n",
    "print(x)"
   ]
  },
  {
   "cell_type": "markdown",
   "id": "75f78d3c",
   "metadata": {},
   "source": [
    "## String Literals"
   ]
  },
  {
   "cell_type": "code",
   "execution_count": 11,
   "id": "19394345",
   "metadata": {},
   "outputs": [
    {
     "name": "stdout",
     "output_type": "stream",
     "text": [
      "python programming\n",
      "python programming language\n",
      "C\n",
      "multiline code represented in triple codes\n",
      " raw \\n string\n"
     ]
    }
   ],
   "source": [
    "string = \"python programming\"\n",
    "strings = \"python programming language\"\n",
    "char = \"C\"\n",
    "multiline_string = \"\"\"multiline code represented in triple codes\"\"\"\n",
    "raw_string = r\" raw \\n string\"\n",
    "print(string)\n",
    "print(strings)\n",
    "print(char)\n",
    "print(multiline_string)\n",
    "print(raw_string)"
   ]
  },
  {
   "cell_type": "markdown",
   "id": "b6ed5d68",
   "metadata": {},
   "source": [
    "## Boolean Literals"
   ]
  },
  {
   "cell_type": "code",
   "execution_count": 15,
   "id": "515923a6",
   "metadata": {},
   "outputs": [
    {
     "name": "stdout",
     "output_type": "stream",
     "text": [
      "a: 5\n",
      "b: 10\n"
     ]
    }
   ],
   "source": [
    "a = True+4\n",
    "b = False+10\n",
    "print(\"a:\", a)\n",
    "print(\"b:\", b)"
   ]
  },
  {
   "cell_type": "markdown",
   "id": "00010c15",
   "metadata": {},
   "source": [
    "##  Special Literals\n"
   ]
  },
  {
   "cell_type": "code",
   "execution_count": 17,
   "id": "fdfae66b",
   "metadata": {},
   "outputs": [
    {
     "name": "stdout",
     "output_type": "stream",
     "text": [
      "None\n"
     ]
    }
   ],
   "source": [
    "a = None\n",
    "print(a)"
   ]
  },
  {
   "cell_type": "code",
   "execution_count": null,
   "id": "2c789724",
   "metadata": {},
   "outputs": [],
   "source": []
  }
 ],
 "metadata": {
  "kernelspec": {
   "display_name": "Python 3 (ipykernel)",
   "language": "python",
   "name": "python3"
  },
  "language_info": {
   "codemirror_mode": {
    "name": "ipython",
    "version": 3
   },
   "file_extension": ".py",
   "mimetype": "text/x-python",
   "name": "python",
   "nbconvert_exporter": "python",
   "pygments_lexer": "ipython3",
   "version": "3.9.13"
  }
 },
 "nbformat": 4,
 "nbformat_minor": 5
}
