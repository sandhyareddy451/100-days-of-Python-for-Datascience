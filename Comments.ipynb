{
 "cells": [
  {
   "cell_type": "markdown",
   "id": "9460f462",
   "metadata": {},
   "source": [
    "### Comments In Python\n",
    "\n",
    "\n",
    " Comment is Nothing but piece of code which in not execute by compiler and interpreter\n",
    " \n",
    " Python allows only single line comments, to represents the comment we use # before your code"
   ]
  },
  {
   "cell_type": "code",
   "execution_count": 2,
   "id": "b2302f78",
   "metadata": {},
   "outputs": [],
   "source": [
    "# this is comment representation in python\n",
    "# Each line we use # for representation of mutiline comment\n"
   ]
  },
  {
   "cell_type": "code",
   "execution_count": null,
   "id": "26444eb8",
   "metadata": {},
   "outputs": [],
   "source": [
    "# comments are used to describe and understanding of your code to you and others also\n",
    "# to write comment to your code easily readble to everyone"
   ]
  }
 ],
 "metadata": {
  "kernelspec": {
   "display_name": "Python 3 (ipykernel)",
   "language": "python",
   "name": "python3"
  },
  "language_info": {
   "codemirror_mode": {
    "name": "ipython",
    "version": 3
   },
   "file_extension": ".py",
   "mimetype": "text/x-python",
   "name": "python",
   "nbconvert_exporter": "python",
   "pygments_lexer": "ipython3",
   "version": "3.9.13"
  }
 },
 "nbformat": 4,
 "nbformat_minor": 5
}
