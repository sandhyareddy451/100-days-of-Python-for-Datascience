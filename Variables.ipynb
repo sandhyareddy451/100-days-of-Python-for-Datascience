{
 "cells": [
  {
   "cell_type": "markdown",
   "id": "278fec4b",
   "metadata": {},
   "source": [
    "### variables\n",
    "\n",
    "Variables are containers for future use, as the name it self when we assign new value to variable it changes the value"
   ]
  },
  {
   "cell_type": "code",
   "execution_count": 4,
   "id": "96f1d3d0",
   "metadata": {},
   "outputs": [],
   "source": [
    "#name variable\n",
    "name = \"Sandhya\""
   ]
  },
  {
   "cell_type": "code",
   "execution_count": 5,
   "id": "23e1510f",
   "metadata": {},
   "outputs": [
    {
     "name": "stdout",
     "output_type": "stream",
     "text": [
      "Sandhya\n"
     ]
    }
   ],
   "source": [
    "C"
   ]
  },
  {
   "cell_type": "code",
   "execution_count": 8,
   "id": "984b19c2",
   "metadata": {},
   "outputs": [
    {
     "name": "stdout",
     "output_type": "stream",
     "text": [
      "hello world\n"
     ]
    }
   ],
   "source": [
    "name=\"hello world\"\n",
    "print(name)"
   ]
  },
  {
   "cell_type": "code",
   "execution_count": 9,
   "id": "423b8e6e",
   "metadata": {},
   "outputs": [],
   "source": [
    "#no variable declaration\n",
    "#dynamic typing\n",
    "#static typing"
   ]
  },
  {
   "cell_type": "code",
   "execution_count": 10,
   "id": "5af480ce",
   "metadata": {},
   "outputs": [
    {
     "name": "stdout",
     "output_type": "stream",
     "text": [
      "2\n",
      "3\n",
      "4\n"
     ]
    }
   ],
   "source": [
    "#special features\n",
    "a=2;b=3;c=4\n",
    "print(a)\n",
    "print(b)\n",
    "print(c)"
   ]
  },
  {
   "cell_type": "code",
   "execution_count": 12,
   "id": "15291411",
   "metadata": {},
   "outputs": [
    {
     "name": "stdout",
     "output_type": "stream",
     "text": [
      "2\n",
      "3\n",
      "4\n"
     ]
    }
   ],
   "source": [
    "a,b,c=2,3,4\n",
    "print(a)\n",
    "print(b)\n",
    "print(c)"
   ]
  },
  {
   "cell_type": "code",
   "execution_count": 14,
   "id": "a59a45eb",
   "metadata": {},
   "outputs": [
    {
     "name": "stdout",
     "output_type": "stream",
     "text": [
      "8\n",
      "8\n",
      "8\n"
     ]
    }
   ],
   "source": [
    "a=b=c=8\n",
    "print(a)\n",
    "print(b)\n",
    "print(c)"
   ]
  },
  {
   "cell_type": "markdown",
   "id": "b8a13cec",
   "metadata": {},
   "source": [
    "##### "
   ]
  },
  {
   "cell_type": "code",
   "execution_count": null,
   "id": "d01ecc59",
   "metadata": {},
   "outputs": [],
   "source": []
  },
  {
   "cell_type": "code",
   "execution_count": 11,
   "id": "b91e56bf",
   "metadata": {},
   "outputs": [],
   "source": [
    "#dynamic binding :single varible stores diffrent data types\n"
   ]
  },
  {
   "cell_type": "code",
   "execution_count": null,
   "id": "b2766e36",
   "metadata": {},
   "outputs": [],
   "source": []
  }
 ],
 "metadata": {
  "kernelspec": {
   "display_name": "Python 3 (ipykernel)",
   "language": "python",
   "name": "python3"
  },
  "language_info": {
   "codemirror_mode": {
    "name": "ipython",
    "version": 3
   },
   "file_extension": ".py",
   "mimetype": "text/x-python",
   "name": "python",
   "nbconvert_exporter": "python",
   "pygments_lexer": "ipython3",
   "version": "3.9.13"
  }
 },
 "nbformat": 4,
 "nbformat_minor": 5
}
