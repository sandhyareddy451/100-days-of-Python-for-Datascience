{
 "cells": [
  {
   "cell_type": "markdown",
   "id": "a43bbc4b",
   "metadata": {},
   "source": [
    "## Indentation: \n",
    "\n",
    "Python uses indentation to indicate a block of code."
   ]
  },
  {
   "cell_type": "code",
   "execution_count": 1,
   "id": "e39c29ca",
   "metadata": {},
   "outputs": [
    {
     "name": "stdout",
     "output_type": "stream",
     "text": [
      "line3\n"
     ]
    }
   ],
   "source": [
    "name = \"sandhya\"\n",
    "\n",
    "if name == \"xyz\":\n",
    "    print(\"line1\") #providing space before the code with in the block. it is calld indentation\n",
    "    print(\"line2\")\n",
    "    \n",
    "else:\n",
    "    print(\"line3\")"
   ]
  },
  {
   "cell_type": "code",
   "execution_count": null,
   "id": "f3d32ea4",
   "metadata": {},
   "outputs": [],
   "source": []
  }
 ],
 "metadata": {
  "kernelspec": {
   "display_name": "Python 3 (ipykernel)",
   "language": "python",
   "name": "python3"
  },
  "language_info": {
   "codemirror_mode": {
    "name": "ipython",
    "version": 3
   },
   "file_extension": ".py",
   "mimetype": "text/x-python",
   "name": "python",
   "nbconvert_exporter": "python",
   "pygments_lexer": "ipython3",
   "version": "3.9.13"
  }
 },
 "nbformat": 4,
 "nbformat_minor": 5
}
